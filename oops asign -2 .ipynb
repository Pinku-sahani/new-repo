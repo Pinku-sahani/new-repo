{
 "cells": [
  {
   "cell_type": "markdown",
   "id": "b1dec8c7-c77d-42b3-b387-2ee3fff6e711",
   "metadata": {},
   "source": [
    "Q1. What is Abstraction in OOps? Explain with an example."
   ]
  },
  {
   "cell_type": "code",
   "execution_count": 1,
   "id": "8662f2c7-5f06-4300-b682-d02f3567cb8d",
   "metadata": {},
   "outputs": [],
   "source": [
    "# Abstraction --> abstraction basically use for the ready \"skaletan\" and \"bluePrint\" . \n",
    "# Like i writing a code so before  so i will think in the mind then ready the \"skaletan\" and \"blueprint\" for the code\n",
    "\n",
    "\n",
    "import abc\n",
    "\n",
    "class my_details:\n",
    "    \n",
    "    @abc.abstractmethod\n",
    "    \n",
    "    def my_name(self):\n",
    "        pass\n",
    "    @abc.abstractmethod\n",
    "    def my_address(self):\n",
    "        pass"
   ]
  },
  {
   "cell_type": "code",
   "execution_count": 2,
   "id": "6ad535c0-3142-4ddc-a1c3-e4f2d4be273c",
   "metadata": {},
   "outputs": [],
   "source": [
    "class name1(my_details):\n",
    "    def my_name(self):\n",
    "        return \"this is call to (name1 class) and function name (my_name)\"\n",
    "    def my_address(self):\n",
    "        return \"this is call to (name1 class) and function name (my_address)\"\n"
   ]
  },
  {
   "cell_type": "code",
   "execution_count": 3,
   "id": "a05944ff-a1ee-4c1f-88ae-6225072aaba0",
   "metadata": {},
   "outputs": [],
   "source": [
    "class name2(my_details):\n",
    "    def my_name(self):\n",
    "        return \"this is call to (name2 class) and function name (my_name)\"\n",
    "    def my_address(self):\n",
    "        return \"this is call to (name2 class) and function name (my_address)\"\n"
   ]
  },
  {
   "cell_type": "code",
   "execution_count": 4,
   "id": "b7de5f95-3cb3-4f3a-946c-00197645ce11",
   "metadata": {},
   "outputs": [
    {
     "data": {
      "text/plain": [
       "'this is call to (name1 class) and function name (my_name)'"
      ]
     },
     "execution_count": 4,
     "metadata": {},
     "output_type": "execute_result"
    }
   ],
   "source": [
    "n1 = name1()\n",
    "n1.my_name()\n"
   ]
  },
  {
   "cell_type": "code",
   "execution_count": 5,
   "id": "49d54905-15e2-46cb-a2d5-8dcdb640ecba",
   "metadata": {},
   "outputs": [
    {
     "data": {
      "text/plain": [
       "'this is call to (name2 class) and function name (my_name)'"
      ]
     },
     "execution_count": 5,
     "metadata": {},
     "output_type": "execute_result"
    }
   ],
   "source": [
    "n2 = name2()\n",
    "n2.my_name()\n"
   ]
  },
  {
   "cell_type": "code",
   "execution_count": 6,
   "id": "ca69a019-89f1-42df-9876-f797186dabea",
   "metadata": {},
   "outputs": [
    {
     "data": {
      "text/plain": [
       "'this is call to (name1 class) and function name (my_address)'"
      ]
     },
     "execution_count": 6,
     "metadata": {},
     "output_type": "execute_result"
    }
   ],
   "source": [
    "n1 = name1()\n",
    "n1.my_address()\n"
   ]
  },
  {
   "cell_type": "code",
   "execution_count": 7,
   "id": "ee299a1c-5fb6-449e-9e53-5bdfd2a35f14",
   "metadata": {},
   "outputs": [
    {
     "data": {
      "text/plain": [
       "'this is call to (name2 class) and function name (my_address)'"
      ]
     },
     "execution_count": 7,
     "metadata": {},
     "output_type": "execute_result"
    }
   ],
   "source": [
    "n2 = name2()\n",
    "n2.my_address()\n"
   ]
  },
  {
   "cell_type": "markdown",
   "id": "85f83dba-e060-429a-a328-0dae65e30cab",
   "metadata": {},
   "source": [
    "Q2. Differentiate between Abstraction and Encapsulation. Explain with an example."
   ]
  },
  {
   "cell_type": "code",
   "execution_count": 8,
   "id": "8a5a9972-3c12-4678-b5fc-f5a7b399dd34",
   "metadata": {},
   "outputs": [],
   "source": [
    "# diff b/w abstraction and encapsulation\n",
    "\n",
    "# Abstraction --> abstraction basically use for the ready \"skaletan\" and \"bluePrint\" . \n",
    "# encapsulation -->  Show the same point to the user which we want to show, \n",
    "#  if we do not show what we do not want to show, then we can do this, we throw encapsulation, this is what we call encapsulation.   "
   ]
  },
  {
   "cell_type": "code",
   "execution_count": 9,
   "id": "78ec0e96-c21a-4a50-aedb-2b4fbf591a1c",
   "metadata": {},
   "outputs": [],
   "source": [
    "# ex - abstraction\n",
    "\n",
    "import abc\n",
    "\n",
    "class a:\n",
    "    \n",
    "    @abc.abstractmethod\n",
    "    \n",
    "    def b(self):\n",
    "        pass\n",
    "    @abc.abstractmethod\n",
    "    \n",
    "    def c(self):\n",
    "        pass  "
   ]
  },
  {
   "cell_type": "code",
   "execution_count": 10,
   "id": "0adce73c-6517-4ab6-be05-4491915f551b",
   "metadata": {},
   "outputs": [],
   "source": [
    "class p1(a):\n",
    "    def b(self):\n",
    "        return \"this is call to (p1 class) and function name (b)\"\n",
    "    def c(self):\n",
    "        return \"this is call to (p1 class) and function name (c)\"\n"
   ]
  },
  {
   "cell_type": "code",
   "execution_count": 11,
   "id": "7a486656-a309-4823-b9bb-2cd57c2b76e3",
   "metadata": {},
   "outputs": [],
   "source": [
    "class p2(a):\n",
    "    def b(self):\n",
    "        return \"this is call to (p2 class) and function name (b)\"\n",
    "    def c(self):\n",
    "        return \"this is call to (p2 class ) and function name (c)\"\n"
   ]
  },
  {
   "cell_type": "code",
   "execution_count": 12,
   "id": "5a49a9ba-88cc-4f7c-9c40-12249cbdf95b",
   "metadata": {},
   "outputs": [
    {
     "data": {
      "text/plain": [
       "'this is call to (p2 class) and function name (b)'"
      ]
     },
     "execution_count": 12,
     "metadata": {},
     "output_type": "execute_result"
    }
   ],
   "source": [
    "x = p2()\n",
    "x.b()"
   ]
  },
  {
   "cell_type": "code",
   "execution_count": 13,
   "id": "7f9f280b-ca40-45f6-9616-96994adec485",
   "metadata": {},
   "outputs": [
    {
     "data": {
      "text/plain": [
       "'this is call to (p1 class) and function name (c)'"
      ]
     },
     "execution_count": 13,
     "metadata": {},
     "output_type": "execute_result"
    }
   ],
   "source": [
    "x = p1()\n",
    "x.c()"
   ]
  },
  {
   "cell_type": "code",
   "execution_count": 26,
   "id": "f27c4f1b-9fc6-4908-8b62-e8506762f380",
   "metadata": {},
   "outputs": [],
   "source": [
    "# ex - encapsulation\n",
    "\n",
    "class car:\n",
    "    def __init__(self,year,make,model,speed):\n",
    "    \n",
    "        self.__year = year\n",
    "        self.__make = make\n",
    "        self.__model = model\n",
    "        self.__speed = 0\n",
    "\n"
   ]
  },
  {
   "cell_type": "code",
   "execution_count": 27,
   "id": "08110430-e754-4794-87bf-b4e80914dfa0",
   "metadata": {},
   "outputs": [],
   "source": [
    "c = car(2021,\"BMW\",\"BMW model\",200)"
   ]
  },
  {
   "cell_type": "code",
   "execution_count": 30,
   "id": "31ee9be9-e6ba-4cae-b766-eef6595bfee1",
   "metadata": {},
   "outputs": [
    {
     "data": {
      "text/plain": [
       "2021"
      ]
     },
     "execution_count": 30,
     "metadata": {},
     "output_type": "execute_result"
    }
   ],
   "source": [
    "c._car__year"
   ]
  },
  {
   "cell_type": "markdown",
   "id": "197c6990-0d6a-4992-aa74-b5a7b5e7dbbe",
   "metadata": {},
   "source": [
    "Q3. What is abc module in python? Why is it used?"
   ]
  },
  {
   "cell_type": "code",
   "execution_count": 15,
   "id": "90dafdca-1c4b-4bf9-9234-f5dde53ce71b",
   "metadata": {},
   "outputs": [],
   "source": [
    "# abc module in python programming language\n",
    "\n",
    "#---> import  abc basically use for skeletan class create then not perform skeletan class,\n",
    "# because in class not use for definition then import abc then perform.\n",
    "# To create skeltan class then perform basically objetice.\n"
   ]
  },
  {
   "cell_type": "markdown",
   "id": "8ab37bc4-ad69-4ef1-b14f-3f5e9accea9e",
   "metadata": {},
   "source": [
    " Q4. How can we achieve data abstraction?"
   ]
  },
  {
   "cell_type": "code",
   "execution_count": 16,
   "id": "8a260e02-06c8-4bd2-b1c0-6dda092e4b9e",
   "metadata": {},
   "outputs": [],
   "source": [
    "# to achieve the data abstraction in using class and function.\n",
    "\n",
    "# ex -   \n",
    "import abc\n",
    "\n",
    "class a:\n",
    "    \n",
    "    @abc.abstractmethod\n",
    "    \n",
    "    def b(self):\n",
    "        pass\n",
    "    @abc.abstractmethod\n",
    "    \n",
    "    def c(self):\n",
    "        pass  \n",
    "    @abc.abstractmethod\n",
    "    def d(self):\n",
    "        pass\n",
    "    \n",
    "    \n",
    "    \n",
    "    "
   ]
  },
  {
   "cell_type": "code",
   "execution_count": 17,
   "id": "de0f4de5-fa23-4fef-8458-94b1a086a620",
   "metadata": {},
   "outputs": [],
   "source": [
    "class p1(a):\n",
    "    def b(self):\n",
    "        return \"this is call to (p1 class) and function name (b)\"\n",
    "    def c(self):\n",
    "        return \"this is call to (p1 class) and function name (c)\"\n",
    "    def d(self):\n",
    "        return \"this is call to (p1 class) and function name (d)\"\n",
    "\n"
   ]
  },
  {
   "cell_type": "code",
   "execution_count": 18,
   "id": "e717e98f-04ca-44a1-a65c-844526a7936c",
   "metadata": {},
   "outputs": [],
   "source": [
    "class p2(a):\n",
    "    def b(self):\n",
    "        return \"this is call to (p2 class) and function name (b)\"\n",
    "    def c(self):\n",
    "        return \"this is call to (p2 class) and function name (c)\"\n",
    "    def d(self):\n",
    "        return \"this is call to (p2 class) and function name (d)\"\n",
    "\n"
   ]
  },
  {
   "cell_type": "code",
   "execution_count": 19,
   "id": "c6c6ad85-8a15-4ad9-a56b-56b1a4842ba2",
   "metadata": {},
   "outputs": [],
   "source": [
    "class p3(a):\n",
    "    def b(self):\n",
    "        return \"this is call to (p3 class) and function name (b)\"\n",
    "    def c(self):\n",
    "        return \"this is call to (p3 class) and function name (c)\"\n",
    "    def d(self):\n",
    "        return \"this is call to (p3 class) and function name (d)\"\n",
    "\n"
   ]
  },
  {
   "cell_type": "code",
   "execution_count": 20,
   "id": "cfc2fa00-1dc6-44f3-a13e-d01401560395",
   "metadata": {},
   "outputs": [],
   "source": [
    "# basically we have to achieve class name \"p2\" and function name \"d\"\n",
    "# so the call in the next cell"
   ]
  },
  {
   "cell_type": "code",
   "execution_count": 21,
   "id": "caab9fb0-5bc4-47b8-8285-81e71a593144",
   "metadata": {},
   "outputs": [
    {
     "data": {
      "text/plain": [
       "'this is call to (p2 class) and function name (d)'"
      ]
     },
     "execution_count": 21,
     "metadata": {},
     "output_type": "execute_result"
    }
   ],
   "source": [
    "z = p2()\n",
    "z.d()"
   ]
  },
  {
   "cell_type": "code",
   "execution_count": 22,
   "id": "88b4ecba-741d-4194-b752-46a70ee84ac9",
   "metadata": {},
   "outputs": [],
   "source": [
    "# so i am calling the p2 class and d function\n",
    "# so i am achieve the data thruw data abstraction\n"
   ]
  },
  {
   "cell_type": "markdown",
   "id": "66f2c711-fe23-45c5-b620-d8489cc971a8",
   "metadata": {},
   "source": [
    "Q5. Can we create an instance of an abstract class? Explain your answer."
   ]
  },
  {
   "cell_type": "code",
   "execution_count": 23,
   "id": "0f115256-0a7e-438e-ae9f-c8a31da40e7c",
   "metadata": {},
   "outputs": [],
   "source": [
    "# My answer --> \"Yes\" beacuse i am creating class then not perform class's defintion i am one class create then perform object.\n",
    "# so i am use same time type one class execute so ouput diff diff so i am call to diff diff definition in the class and function thruw object "
   ]
  },
  {
   "cell_type": "code",
   "execution_count": null,
   "id": "36b9521e-1f97-4755-bcc4-082655ad10e1",
   "metadata": {},
   "outputs": [],
   "source": []
  },
  {
   "cell_type": "code",
   "execution_count": null,
   "id": "5b0787cf-25b7-46b6-b302-e080e9735df7",
   "metadata": {},
   "outputs": [],
   "source": []
  }
 ],
 "metadata": {
  "kernelspec": {
   "display_name": "Python 3 (ipykernel)",
   "language": "python",
   "name": "python3"
  },
  "language_info": {
   "codemirror_mode": {
    "name": "ipython",
    "version": 3
   },
   "file_extension": ".py",
   "mimetype": "text/x-python",
   "name": "python",
   "nbconvert_exporter": "python",
   "pygments_lexer": "ipython3",
   "version": "3.10.8"
  }
 },
 "nbformat": 4,
 "nbformat_minor": 5
}
